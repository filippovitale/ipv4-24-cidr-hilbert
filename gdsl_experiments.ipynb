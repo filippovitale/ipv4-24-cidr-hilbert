{
 "cells": [
  {
   "metadata": {
    "ExecuteTime": {
     "end_time": "2025-10-17T17:25:21.866239Z",
     "start_time": "2025-10-17T17:25:21.864133Z"
    }
   },
   "cell_type": "code",
   "source": [
    "from pathlib import Path\n",
    "\n",
    "from osgeo import gdal, osr\n",
    "import gdal2tiles\n",
    "\n",
    "gdal.UseExceptions()"
   ],
   "id": "3d2480499a9f4c19",
   "outputs": [],
   "execution_count": 8
  },
  {
   "metadata": {
    "ExecuteTime": {
     "end_time": "2025-10-17T17:25:21.872383Z",
     "start_time": "2025-10-17T17:25:21.870800Z"
    }
   },
   "cell_type": "code",
   "source": [
    "INPUT_IMAGE = Path('/Users/fvitale/Documents/Projects/ipv4-24-cidr-hilbert/img/test_4k.png')\n",
    "TEMP_IMAGE = Path('/tmp/test_4k_georef.tif')\n",
    "OUTPUT_DIR = Path('./tiles/')\n",
    "TILE_SIZE=512"
   ],
   "id": "60c3f4c49c67cf27",
   "outputs": [],
   "execution_count": 9
  },
  {
   "metadata": {
    "ExecuteTime": {
     "end_time": "2025-10-17T17:25:21.885504Z",
     "start_time": "2025-10-17T17:25:21.875492Z"
    }
   },
   "cell_type": "code",
   "source": [
    "src_ds = gdal.Open(INPUT_IMAGE)\n",
    "width, height = src_ds.RasterXSize, src_ds.RasterYSize"
   ],
   "id": "db3207aee58a9a1a",
   "outputs": [],
   "execution_count": 10
  },
  {
   "metadata": {
    "ExecuteTime": {
     "end_time": "2025-10-17T17:25:21.891743Z",
     "start_time": "2025-10-17T17:25:21.888833Z"
    }
   },
   "cell_type": "code",
   "source": [
    "driver = gdal.GetDriverByName('GTiff')\n",
    "dst_ds = driver.Create(TEMP_IMAGE, width, height, src_ds.RasterCount, gdal.GDT_Byte)"
   ],
   "id": "fad2fe965871302b",
   "outputs": [],
   "execution_count": 11
  },
  {
   "metadata": {
    "ExecuteTime": {
     "end_time": "2025-10-17T17:25:22.107860Z",
     "start_time": "2025-10-17T17:25:21.896958Z"
    }
   },
   "cell_type": "code",
   "source": [
    "for i in range(1, src_ds.RasterCount + 1):\n",
    "    band = src_ds.GetRasterBand(i)\n",
    "    dst_band = dst_ds.GetRasterBand(i)\n",
    "    data = band.ReadAsArray()\n",
    "    dst_band.WriteArray(data)\n",
    "\n",
    "dst_ds.SetGeoTransform((0, 1, 0, 0, 0, -1))  # origin top-left, pixel size 1x1\n",
    "\n",
    "srs = osr.SpatialReference()\n",
    "srs.ImportFromEPSG(3857)  # Web Mercator\n",
    "dst_ds.SetProjection(srs.ExportToWkt())\n",
    "\n",
    "dst_ds.FlushCache()"
   ],
   "id": "47bc0b19ba45bd47",
   "outputs": [
    {
     "data": {
      "text/plain": [
       "0"
      ]
     },
     "execution_count": 12,
     "metadata": {},
     "output_type": "execute_result"
    }
   ],
   "execution_count": 12
  },
  {
   "metadata": {
    "ExecuteTime": {
     "end_time": "2025-10-17T17:25:28.993562Z",
     "start_time": "2025-10-17T17:25:22.112717Z"
    }
   },
   "cell_type": "code",
   "source": "gdal2tiles.generate_tiles(TEMP_IMAGE, './tiles/', tile_size=TILE_SIZE)",
   "id": "95f93e3ecdf0f404",
   "outputs": [
    {
     "name": "stdout",
     "output_type": "stream",
     "text": [
      "Generating Base Tiles:\n",
      "0...10...20...30...40...50...60...70...80...90...100\n",
      "Generating Overview Tiles:\n",
      "0...10...20...30...40...50...60...70...80...90...100\n"
     ]
    }
   ],
   "execution_count": 13
  },
  {
   "metadata": {
    "ExecuteTime": {
     "end_time": "2025-10-17T17:25:29.011391Z",
     "start_time": "2025-10-17T17:25:29.009461Z"
    }
   },
   "cell_type": "code",
   "source": [
    "if TEMP_IMAGE.exists():\n",
    "    TEMP_IMAGE.unlink()"
   ],
   "id": "57c8efcbb7ae9440",
   "outputs": [],
   "execution_count": 14
  }
 ],
 "metadata": {
  "kernelspec": {
   "display_name": "Python 3",
   "language": "python",
   "name": "python3"
  },
  "language_info": {
   "codemirror_mode": {
    "name": "ipython",
    "version": 2
   },
   "file_extension": ".py",
   "mimetype": "text/x-python",
   "name": "python",
   "nbconvert_exporter": "python",
   "pygments_lexer": "ipython2",
   "version": "2.7.6"
  }
 },
 "nbformat": 4,
 "nbformat_minor": 5
}
