{
 "cells": [
  {
   "metadata": {
    "ExecuteTime": {
     "end_time": "2025-10-17T18:35:34.193293Z",
     "start_time": "2025-10-17T18:35:33.890563Z"
    }
   },
   "cell_type": "code",
   "source": [
    "from pathlib import Path\n",
    "\n",
    "from osgeo import gdal, osr\n",
    "import gdal2tiles\n",
    "\n",
    "gdal.UseExceptions()"
   ],
   "id": "3d2480499a9f4c19",
   "outputs": [],
   "execution_count": 1
  },
  {
   "metadata": {
    "ExecuteTime": {
     "end_time": "2025-10-17T18:35:34.200211Z",
     "start_time": "2025-10-17T18:35:34.198392Z"
    }
   },
   "cell_type": "code",
   "source": [
    "INPUT_IMAGE = Path('/img/test_4k.png')\n",
    "TEMP_IMAGE = Path('/tmp/test_4k_georef.tif')\n",
    "OUTPUT_DIR = Path('../../tiles/')\n",
    "TILE_SIZE=512"
   ],
   "id": "60c3f4c49c67cf27",
   "outputs": [],
   "execution_count": 2
  },
  {
   "metadata": {
    "ExecuteTime": {
     "end_time": "2025-10-17T18:35:34.207186Z",
     "start_time": "2025-10-17T18:35:34.204887Z"
    }
   },
   "cell_type": "code",
   "source": [
    "src_ds = gdal.Open(INPUT_IMAGE)\n",
    "width, height = src_ds.RasterXSize, src_ds.RasterYSize\n",
    "assert width == height"
   ],
   "id": "db3207aee58a9a1a",
   "outputs": [],
   "execution_count": 3
  },
  {
   "metadata": {
    "ExecuteTime": {
     "end_time": "2025-10-17T18:35:34.215649Z",
     "start_time": "2025-10-17T18:35:34.214064Z"
    }
   },
   "cell_type": "code",
   "source": [
    "# new_width = width * 2**1\n",
    "# new_height = height * 2**1\n",
    "# src_ds = gdal.Translate('output.tif', src_ds, width=new_width, height=new_height, resampleAlg='bilinear')"
   ],
   "id": "d6af94fb1b9bd3f2",
   "outputs": [],
   "execution_count": 4
  },
  {
   "metadata": {
    "ExecuteTime": {
     "end_time": "2025-10-17T18:35:34.225952Z",
     "start_time": "2025-10-17T18:35:34.223086Z"
    }
   },
   "cell_type": "code",
   "source": [
    "driver = gdal.GetDriverByName('GTiff')\n",
    "dst_ds = driver.Create(TEMP_IMAGE, width, height, src_ds.RasterCount, gdal.GDT_Byte)"
   ],
   "id": "fad2fe965871302b",
   "outputs": [],
   "execution_count": 5
  },
  {
   "metadata": {
    "ExecuteTime": {
     "end_time": "2025-10-17T18:35:34.474504Z",
     "start_time": "2025-10-17T18:35:34.235724Z"
    }
   },
   "cell_type": "code",
   "source": [
    "for i in range(1, src_ds.RasterCount + 1):\n",
    "    band = src_ds.GetRasterBand(i)\n",
    "    dst_band = dst_ds.GetRasterBand(i)\n",
    "    data = band.ReadAsArray()\n",
    "    dst_band.WriteArray(data)\n",
    "\n",
    "dst_ds.SetGeoTransform((0, 1, 0, 0, 0, -1))  # origin top-left, pixel size 1x1\n",
    "\n",
    "srs = osr.SpatialReference()\n",
    "srs.ImportFromEPSG(3857)  # Web Mercator\n",
    "# srs.ImportFromEPSG(4326)  # WGS 84 datum (World Geodetic System 1984)\n",
    "dst_ds.SetProjection(srs.ExportToWkt())\n",
    "\n",
    "dst_ds.FlushCache()"
   ],
   "id": "47bc0b19ba45bd47",
   "outputs": [
    {
     "data": {
      "text/plain": [
       "0"
      ]
     },
     "execution_count": 6,
     "metadata": {},
     "output_type": "execute_result"
    }
   ],
   "execution_count": 6
  },
  {
   "metadata": {
    "ExecuteTime": {
     "end_time": "2025-10-17T18:35:41.642384Z",
     "start_time": "2025-10-17T18:35:34.479656Z"
    }
   },
   "cell_type": "code",
   "source": "gdal2tiles.generate_tiles(TEMP_IMAGE, './tiles/', tile_size=TILE_SIZE)",
   "id": "95f93e3ecdf0f404",
   "outputs": [
    {
     "name": "stdout",
     "output_type": "stream",
     "text": [
      "Generating Base Tiles:\n",
      "0...10...20...30...40...50...60...70...80...90...100\n",
      "Generating Overview Tiles:\n",
      "0...10...20...30...40...50...60...70...80...90...100\n"
     ]
    }
   ],
   "execution_count": 7
  },
  {
   "metadata": {
    "ExecuteTime": {
     "end_time": "2025-10-17T18:35:41.713521Z",
     "start_time": "2025-10-17T18:35:41.711480Z"
    }
   },
   "cell_type": "code",
   "source": [
    "if TEMP_IMAGE.exists():\n",
    "    TEMP_IMAGE.unlink()"
   ],
   "id": "57c8efcbb7ae9440",
   "outputs": [],
   "execution_count": 8
  }
 ],
 "metadata": {
  "kernelspec": {
   "display_name": "Python 3",
   "language": "python",
   "name": "python3"
  },
  "language_info": {
   "codemirror_mode": {
    "name": "ipython",
    "version": 2
   },
   "file_extension": ".py",
   "mimetype": "text/x-python",
   "name": "python",
   "nbconvert_exporter": "python",
   "pygments_lexer": "ipython2",
   "version": "2.7.6"
  }
 },
 "nbformat": 4,
 "nbformat_minor": 5
}
